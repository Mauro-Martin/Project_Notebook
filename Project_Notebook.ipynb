{
 "cells": [
  {
   "cell_type": "markdown",
   "metadata": {},
   "source": [
    "# Comprehensive Data Science Analysis Notebook"
   ]
  },
  {
   "cell_type": "markdown",
   "metadata": {},
   "source": [
    "## Introduction\n",
    "Welcome to this Data Science Analysis Notebook! This notebook has been created as part of a Skills Network lab exercise. It’s designed to guide you through essential data science concepts and practices with a mix of theoretical insights and practical examples. Here, you'll find both markdown explanations and executable code cells to facilitate a deeper understanding of data manipulation, analysis, and visualization techniques."
   ]
  },
  {
   "cell_type": "markdown",
   "metadata": {},
   "source": [
    "## Data Science Languages\n",
    "Data science leverages a multitude of programming languages, each with its unique strengths and applications. The following are some of the most prominent languages utilized in this domain:\n",
    "1. Python\n",
    "2. R\n",
    "3. SQL\n",
    "4. Java\n",
    "5. Julia\n",
    "6. Scala\n",
    "7. MATLAB"
   ]
  },
  {
   "cell_type": "markdown",
   "metadata": {},
   "source": [
    "## Essential Data Science Libraries\n",
    "Here’s a list of key libraries that every data scientist should be familiar with. They help streamline various aspects of data science work:\n",
    "\n",
    "- **Pandas**: A cornerstone for data manipulation and analysis, providing flexible data structures like DataFrames.\n",
    "- **NumPy**: The fundamental package for numerical computing in Python, offering support for large, multi-dimensional arrays and matrices.\n",
    "- **Matplotlib**: A powerful library for creating a wide range of static, animated, and interactive plots and charts.\n",
    "- **Scikit-learn**: A library for machine learning that includes algorithms for classification, regression, clustering, and more.\n",
    "- **TensorFlow**: An end-to-end open-source platform that provides a comprehensive suite for building and deploying machine learning models.\n",
    "- **Keras**: An API that simplifies the creation of deep learning models and integrates seamlessly with TensorFlow.\n",
    "- **PyTorch**: A flexible deep learning framework that is popular for research and production due to its dynamic computational graph.\n",
    "- **SciPy**: Builds on NumPy and provides additional tools for scientific and technical computing.\n",
    "- **Seaborn**: Enhances data visualization with more aesthetically pleasing and informative statistical graphics.\n"
   ]
  },
  {
   "cell_type": "markdown",
   "metadata": {},
   "source": [
    "## Data Science Tools\n",
    "Here’s a table highlighting some essential tools in the data science toolkit, along with their primary functions:\n",
    "\n",
    "| Tool             | Description                                                                                          | Main Use Case                                           |\n",
    "|------------------|------------------------------------------------------------------------------------------------------|--------------------------------------------------------|\n",
    "| **Jupyter Notebook** | An interactive environment where you can create and share documents with live code, equations, and visualizations. | Ideal for exploratory data analysis and documentation. |\n",
    "| **RStudio**          | An IDE for R that facilitates statistical analysis and data visualization with a user-friendly interface. | Comprehensive tool for data analysis in R.            |\n",
    "| **Apache Spark**     | A unified analytics engine for big data processing, offering built-in modules for SQL, streaming, and machine learning. | Big data processing and real-time analytics.         |\n",
    "| **TensorFlow**       | An open-source platform for machine learning and deep learning, known for its flexibility and comprehensive ecosystem. | Building and training complex machine learning models. |\n",
    "| **GitHub**           | A platform for version control and collaboration using Git, allowing you to manage code and track changes. | Version control and collaborative software development. |"
   ]
  },
  {
   "cell_type": "markdown",
   "metadata": {},
   "source": [
    "## Arithmetic Operations Examples\n",
    "Arithmetic operations are fundamental in data science for processing numerical data. Here are some basic operations:\n",
    "\n",
    "- **Addition**: Adding two numbers together. For instance, \\(3 + 5 = 8\\).\n",
    "- **Subtraction**: Finding the difference between two numbers. For example, \\(10 - 6 = 4\\).\n",
    "- **Multiplication**: Calculating the product of two numbers. For instance, \\(4 \\times 7 = 28\\).\n",
    "- **Division**: Determining how many times one number is contained within another. For example, \\(20 \\div 4 = 5\\)."
   ]
  },
  {
   "cell_type": "code",
   "execution_count": 4,
   "metadata": {},
   "outputs": [
    {
     "data": {
      "text/plain": [
       "(54, 15)"
      ]
     },
     "execution_count": 4,
     "metadata": {},
     "output_type": "execute_result"
    }
   ],
   "source": [
    "# Basic Arithmetic Operations: Multiplication and Addition\n",
    "num1 = 6\n",
    "num2 = 9\n",
    "\n",
    "# Multiplying the numbers\n",
    "product = num1 * num2\n",
    "\n",
    "# Adding the numbers\n",
    "sum_result = num1 + num2\n",
    "\n",
    "(product, sum_result)"
   ]
  },
  {
   "cell_type": "code",
   "execution_count": 5,
   "metadata": {},
   "outputs": [
    {
     "data": {
      "text/plain": [
       "4.0"
      ]
     },
     "execution_count": 5,
     "metadata": {},
     "output_type": "execute_result"
    }
   ],
   "source": [
    "# Function to Convert Minutes to Hours\n",
    "def minutes_to_hours(minutes):\n",
    "    \"\"\"Convert a number of minutes into hours.\"\"\"\n",
    "    return minutes / 60\n",
    "\n",
    "minutes = 240\n",
    "hours = minutes_to_hours(minutes)\n",
    "hours"
   ]
  },
  {
   "cell_type": "code",
   "execution_count": 6,
   "metadata": {},
   "outputs": [
    {
     "name": "stdout",
     "output_type": "stream",
     "text": [
      "- Understand core principles and practices in data science.\n",
      "- Become proficient in essential programming languages used in data science.\n",
      "- Gain hands-on experience with critical data science libraries and tools.\n",
      "- Apply data science methodologies to real-world problems and scenarios.\n"
     ]
    }
   ],
   "source": [
    "# Listing Objectives\n",
    "objectives = [\n",
    "    \"Understand core principles and practices in data science.\",\n",
    "    \"Become proficient in essential programming languages used in data science.\",\n",
    "    \"Gain hands-on experience with critical data science libraries and tools.\",\n",
    "    \"Apply data science methodologies to real-world problems and scenarios.\"\n",
    "]\n",
    "\n",
    "for obj in objectives:\n",
    "    print(f\"- {obj}\")"
   ]
  },
  {
   "cell_type": "markdown",
   "metadata": {},
   "source": [
    "## Author\n",
    "My name is Mauro Leonel Martin, I'm an Industrial Engineering student and I specialize in data analysis and I'm continually training as a data scientist."
   ]
  }
 ],
 "metadata": {
  "kernelspec": {
   "display_name": "Python 3",
   "language": "python",
   "name": "python3"
  },
  "language_info": {
   "codemirror_mode": {
    "name": "ipython",
    "version": 3
   },
   "file_extension": ".py",
   "mimetype": "text/x-python",
   "name": "python",
   "nbconvert_exporter": "python",
   "pygments_lexer": "ipython3",
   "version": "3.12.2"
  }
 },
 "nbformat": 4,
 "nbformat_minor": 2
}
